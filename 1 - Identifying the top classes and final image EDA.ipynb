{
 "cells": [
  {
   "cell_type": "markdown",
   "id": "f93fa5ae",
   "metadata": {},
   "source": [
    "**Importing libraries and loading previously generated csv's form scraping and the train set deatails csv from kaggle**"
   ]
  },
  {
   "cell_type": "code",
   "execution_count": 1,
   "id": "23a0b417",
   "metadata": {
    "ExecuteTime": {
     "end_time": "2022-10-30T11:27:48.093924Z",
     "start_time": "2022-10-30T11:27:47.715455Z"
    }
   },
   "outputs": [],
   "source": [
    "import pandas as pd\n",
    "import numpy as np\n",
    "import os"
   ]
  },
  {
   "cell_type": "code",
   "execution_count": 78,
   "id": "4ce40437",
   "metadata": {
    "ExecuteTime": {
     "end_time": "2022-10-29T10:02:09.677817Z",
     "start_time": "2022-10-29T10:02:09.662804Z"
    }
   },
   "outputs": [],
   "source": [
    "data = pd.read_csv(\"CSV's/Train_set.csv\")\n",
    "aux = pd.read_csv(\"CSV's/artists_by_movement.csv\")"
   ]
  },
  {
   "cell_type": "markdown",
   "id": "65d1fcc0",
   "metadata": {},
   "source": [
    "**Filtering auxiliary dataset just for painters and performing some basic EDA**"
   ]
  },
  {
   "cell_type": "code",
   "execution_count": 79,
   "id": "edd088c3",
   "metadata": {
    "ExecuteTime": {
     "end_time": "2022-10-29T10:02:10.886742Z",
     "start_time": "2022-10-29T10:02:10.875741Z"
    }
   },
   "outputs": [
    {
     "data": {
      "text/html": [
       "<div>\n",
       "<style scoped>\n",
       "    .dataframe tbody tr th:only-of-type {\n",
       "        vertical-align: middle;\n",
       "    }\n",
       "\n",
       "    .dataframe tbody tr th {\n",
       "        vertical-align: top;\n",
       "    }\n",
       "\n",
       "    .dataframe thead th {\n",
       "        text-align: right;\n",
       "    }\n",
       "</style>\n",
       "<table border=\"1\" class=\"dataframe\">\n",
       "  <thead>\n",
       "    <tr style=\"text-align: right;\">\n",
       "      <th></th>\n",
       "      <th>Unnamed: 0</th>\n",
       "      <th>movement</th>\n",
       "      <th>name</th>\n",
       "      <th>birth</th>\n",
       "      <th>death</th>\n",
       "      <th>country</th>\n",
       "      <th>art_type</th>\n",
       "    </tr>\n",
       "  </thead>\n",
       "  <tbody>\n",
       "    <tr>\n",
       "      <th>0</th>\n",
       "      <td>0</td>\n",
       "      <td>Gothic Art</td>\n",
       "      <td>Benedetto Antelami</td>\n",
       "      <td>1150</td>\n",
       "      <td>1230</td>\n",
       "      <td>Italian</td>\n",
       "      <td>Sculptor</td>\n",
       "    </tr>\n",
       "    <tr>\n",
       "      <th>1</th>\n",
       "      <td>1</td>\n",
       "      <td>Gothic Art</td>\n",
       "      <td>Mastro Guglielmo</td>\n",
       "      <td>1158</td>\n",
       "      <td>1165</td>\n",
       "      <td>Italian</td>\n",
       "      <td>Sculptor</td>\n",
       "    </tr>\n",
       "    <tr>\n",
       "      <th>2</th>\n",
       "      <td>0</td>\n",
       "      <td>The Early Renaissance</td>\n",
       "      <td>Giotto di Bondone</td>\n",
       "      <td>1267</td>\n",
       "      <td>1337</td>\n",
       "      <td>Italian</td>\n",
       "      <td>Painter</td>\n",
       "    </tr>\n",
       "  </tbody>\n",
       "</table>\n",
       "</div>"
      ],
      "text/plain": [
       "   Unnamed: 0               movement                name  birth  death  \\\n",
       "0           0             Gothic Art  Benedetto Antelami   1150   1230   \n",
       "1           1             Gothic Art    Mastro Guglielmo   1158   1165   \n",
       "2           0  The Early Renaissance   Giotto di Bondone   1267   1337   \n",
       "\n",
       "   country  art_type  \n",
       "0  Italian  Sculptor  \n",
       "1  Italian  Sculptor  \n",
       "2  Italian   Painter  "
      ]
     },
     "execution_count": 79,
     "metadata": {},
     "output_type": "execute_result"
    }
   ],
   "source": [
    "aux.head(3)"
   ]
  },
  {
   "cell_type": "code",
   "execution_count": 80,
   "id": "0c203cf1",
   "metadata": {
    "ExecuteTime": {
     "end_time": "2022-10-29T10:02:11.642576Z",
     "start_time": "2022-10-29T10:02:11.618553Z"
    }
   },
   "outputs": [
    {
     "data": {
      "text/html": [
       "<div>\n",
       "<style scoped>\n",
       "    .dataframe tbody tr th:only-of-type {\n",
       "        vertical-align: middle;\n",
       "    }\n",
       "\n",
       "    .dataframe tbody tr th {\n",
       "        vertical-align: top;\n",
       "    }\n",
       "\n",
       "    .dataframe thead th {\n",
       "        text-align: right;\n",
       "    }\n",
       "</style>\n",
       "<table border=\"1\" class=\"dataframe\">\n",
       "  <thead>\n",
       "    <tr style=\"text-align: right;\">\n",
       "      <th></th>\n",
       "      <th>artist</th>\n",
       "      <th>movement</th>\n",
       "      <th>birth</th>\n",
       "      <th>death</th>\n",
       "      <th>country</th>\n",
       "    </tr>\n",
       "  </thead>\n",
       "  <tbody>\n",
       "    <tr>\n",
       "      <th>2</th>\n",
       "      <td>Giotto di Bondone</td>\n",
       "      <td>The Early Renaissance</td>\n",
       "      <td>1267</td>\n",
       "      <td>1337</td>\n",
       "      <td>Italian</td>\n",
       "    </tr>\n",
       "    <tr>\n",
       "      <th>3</th>\n",
       "      <td>Bernardo Daddi</td>\n",
       "      <td>The Early Renaissance</td>\n",
       "      <td>1280</td>\n",
       "      <td>1348</td>\n",
       "      <td>Italian</td>\n",
       "    </tr>\n",
       "    <tr>\n",
       "      <th>4</th>\n",
       "      <td>Taddeo Gaddi</td>\n",
       "      <td>The Early Renaissance</td>\n",
       "      <td>1300</td>\n",
       "      <td>1366</td>\n",
       "      <td>Italian</td>\n",
       "    </tr>\n",
       "  </tbody>\n",
       "</table>\n",
       "</div>"
      ],
      "text/plain": [
       "              artist               movement  birth  death  country\n",
       "2  Giotto di Bondone  The Early Renaissance   1267   1337  Italian\n",
       "3     Bernardo Daddi  The Early Renaissance   1280   1348  Italian\n",
       "4       Taddeo Gaddi  The Early Renaissance   1300   1366  Italian"
      ]
     },
     "execution_count": 80,
     "metadata": {},
     "output_type": "execute_result"
    }
   ],
   "source": [
    "# Function to check if artist type is painter in the complete artists list by movement\n",
    "def painter_check(i):\n",
    "    if 'Painter' in i:\n",
    "        return 1\n",
    "    else:\n",
    "        return 0    \n",
    "\n",
    "aux['is_painter'] = aux.art_type.apply(painter_check)\n",
    "aux = aux[aux.is_painter == 1]\n",
    "aux = aux.drop(columns = ['Unnamed: 0','is_painter', 'art_type'])\n",
    "aux.columns = ['movement', 'artist', 'birth', 'death', 'country']\n",
    "# filtering and reordering the dataframe\n",
    "aux = aux[['artist','movement','birth', 'death', 'country']]\n",
    "\n",
    "aux.head(3)"
   ]
  },
  {
   "cell_type": "markdown",
   "id": "181885c5",
   "metadata": {},
   "source": [
    "**Let's now check the main dataset**"
   ]
  },
  {
   "cell_type": "code",
   "execution_count": 166,
   "id": "6b7df3ca",
   "metadata": {
    "ExecuteTime": {
     "end_time": "2022-10-29T10:32:54.033505Z",
     "start_time": "2022-10-29T10:32:53.925491Z"
    }
   },
   "outputs": [
    {
     "data": {
      "text/plain": [
       "artist              0\n",
       "date            26363\n",
       "genre            1254\n",
       "pixelsx             0\n",
       "pixelsy             0\n",
       "size_bytes          0\n",
       "source            167\n",
       "style             986\n",
       "title             122\n",
       "artist_group        0\n",
       "in_train            0\n",
       "new_filename        0\n",
       "dtype: int64"
      ]
     },
     "execution_count": 166,
     "metadata": {},
     "output_type": "execute_result"
    }
   ],
   "source": [
    "data.isna().sum()"
   ]
  },
  {
   "cell_type": "markdown",
   "id": "cc5853d8",
   "metadata": {},
   "source": [
    "**We have some blank styles, let's try to fill them joining the tables.**"
   ]
  },
  {
   "cell_type": "code",
   "execution_count": 226,
   "id": "99ec9243",
   "metadata": {
    "ExecuteTime": {
     "end_time": "2022-10-29T11:37:26.742601Z",
     "start_time": "2022-10-29T11:37:26.693872Z"
    }
   },
   "outputs": [],
   "source": [
    "merge = data.merge(aux, on='artist', how='left')"
   ]
  },
  {
   "cell_type": "code",
   "execution_count": 227,
   "id": "4c6a63ca",
   "metadata": {
    "ExecuteTime": {
     "end_time": "2022-10-29T11:37:27.972492Z",
     "start_time": "2022-10-29T11:37:27.944466Z"
    }
   },
   "outputs": [],
   "source": [
    "merge['style'] = merge.movement.where(merge['style'].isnull(), merge['style'])"
   ]
  },
  {
   "cell_type": "code",
   "execution_count": 228,
   "id": "6deb0c0e",
   "metadata": {
    "ExecuteTime": {
     "end_time": "2022-10-29T11:37:28.792613Z",
     "start_time": "2022-10-29T11:37:28.660492Z"
    }
   },
   "outputs": [
    {
     "data": {
      "text/plain": [
       "artist              0\n",
       "date            26476\n",
       "genre            1259\n",
       "pixelsx             0\n",
       "pixelsy             0\n",
       "size_bytes          0\n",
       "source            167\n",
       "style             932\n",
       "title             122\n",
       "artist_group        0\n",
       "in_train            0\n",
       "new_filename        0\n",
       "movement        75715\n",
       "birth           75715\n",
       "death           75715\n",
       "country         75715\n",
       "dtype: int64"
      ]
     },
     "execution_count": 228,
     "metadata": {},
     "output_type": "execute_result"
    }
   ],
   "source": [
    "merge.isna().sum()"
   ]
  },
  {
   "cell_type": "markdown",
   "id": "aeb85cf7",
   "metadata": {
    "ExecuteTime": {
     "end_time": "2022-10-29T10:17:32.460617Z",
     "start_time": "2022-10-29T10:17:32.446603Z"
    }
   },
   "source": [
    "**Managed to fix someartists, sadly will have to discard the ones without genre/style because they are completly useless to our usecase, let's also filter just the columns that we need**"
   ]
  },
  {
   "cell_type": "code",
   "execution_count": 229,
   "id": "68d9bff3",
   "metadata": {
    "ExecuteTime": {
     "end_time": "2022-10-29T11:37:33.496410Z",
     "start_time": "2022-10-29T11:37:33.411333Z"
    }
   },
   "outputs": [],
   "source": [
    "merge = merge[~merge['style'].isna()]\n",
    "\n",
    "# calculating a helper column to fill the nan years for the painting with the midlife age of the artist\n",
    "merge['avg_year'] = round((merge.death+merge.birth)/2)\n",
    "merge['date'] = merge.avg_year.where(merge['date'].isnull(), merge['date'])\n",
    "\n",
    "# Filtering the columns to use\n",
    "merge = merge[['date', 'artist','style','new_filename','in_train']]"
   ]
  },
  {
   "cell_type": "code",
   "execution_count": 230,
   "id": "090dc3e9",
   "metadata": {
    "ExecuteTime": {
     "end_time": "2022-10-29T11:37:34.674579Z",
     "start_time": "2022-10-29T11:37:34.618528Z"
    }
   },
   "outputs": [
    {
     "data": {
      "text/plain": [
       "date            20632\n",
       "artist              0\n",
       "style               0\n",
       "new_filename        0\n",
       "in_train            0\n",
       "dtype: int64"
      ]
     },
     "execution_count": 230,
     "metadata": {},
     "output_type": "execute_result"
    }
   ],
   "source": [
    "merge.isna().sum()"
   ]
  },
  {
   "cell_type": "markdown",
   "id": "5b668a84",
   "metadata": {
    "ExecuteTime": {
     "end_time": "2022-10-29T10:27:40.223859Z",
     "start_time": "2022-10-29T10:27:40.192831Z"
    }
   },
   "source": [
    "**We fixed more than 6000 dates and styles, so for now we will save it for future processing color palletes and HSL.**"
   ]
  },
  {
   "cell_type": "code",
   "execution_count": 1,
   "id": "3a0c1fe7",
   "metadata": {
    "ExecuteTime": {
     "end_time": "2022-11-03T09:07:08.191762Z",
     "start_time": "2022-11-03T09:07:08.178749Z"
    }
   },
   "outputs": [],
   "source": [
    "# saving our work to a csv, fo safegranting\n",
    "# merge.to_csv(\"CSV's/Treated_artist_by_movement_paintings.csv\")"
   ]
  },
  {
   "cell_type": "markdown",
   "id": "d762f658",
   "metadata": {},
   "source": [
    "**Chosen categories**\n",
    "***\n",
    "Due to time restrains i'll train just 15 categories with a subsampling of 2000 paintings of each period. In a future iteration a better model can be calculated, but for now this subsample has to sufice. For the color palette analysis though i'll be using all the dataset, ignore the movement and just focus on the year."
   ]
  },
  {
   "cell_type": "code",
   "execution_count": 232,
   "id": "43c403d4",
   "metadata": {
    "ExecuteTime": {
     "end_time": "2022-10-29T11:37:49.178151Z",
     "start_time": "2022-10-29T11:37:49.166140Z"
    }
   },
   "outputs": [],
   "source": [
    "movements_list = merge['style'].value_counts().head(15)\n",
    "movements_list = pd.DataFrame(movements_list).reset_index()['index']"
   ]
  },
  {
   "cell_type": "markdown",
   "id": "76ac2f56",
   "metadata": {
    "ExecuteTime": {
     "end_time": "2022-10-29T10:36:52.810905Z",
     "start_time": "2022-10-29T10:36:52.796902Z"
    }
   },
   "source": [
    "**Sub sampling the dataset for 2000 paintings for each category**"
   ]
  },
  {
   "cell_type": "code",
   "execution_count": 233,
   "id": "e1bd82c0",
   "metadata": {
    "ExecuteTime": {
     "end_time": "2022-10-29T11:38:05.519407Z",
     "start_time": "2022-10-29T11:38:05.516404Z"
    }
   },
   "outputs": [],
   "source": [
    "sub_sampled = pd.DataFrame(columns = merge.columns)"
   ]
  },
  {
   "cell_type": "code",
   "execution_count": 234,
   "id": "1bb4bcba",
   "metadata": {
    "ExecuteTime": {
     "end_time": "2022-10-29T11:38:08.367248Z",
     "start_time": "2022-10-29T11:38:08.255146Z"
    }
   },
   "outputs": [],
   "source": [
    "for element in movements_list:\n",
    "    tmp = merge[merge['style'] == element]\n",
    "    if len(tmp)<2000:\n",
    "        sub_sampled = pd.concat([sub_sampled,tmp], axis=0)\n",
    "    else:\n",
    "        sub_sampled = pd.concat([sub_sampled,tmp.sample(2000)], axis=0)"
   ]
  },
  {
   "cell_type": "markdown",
   "id": "5adcd1bd",
   "metadata": {},
   "source": [
    "**Sub_sample dataframe is complete, exporting to csv**"
   ]
  },
  {
   "cell_type": "code",
   "execution_count": 235,
   "id": "9f7ad6ff",
   "metadata": {
    "ExecuteTime": {
     "end_time": "2022-10-29T11:38:15.736748Z",
     "start_time": "2022-10-29T11:38:15.644663Z"
    }
   },
   "outputs": [],
   "source": [
    "sub_sampled.to_csv(\"CSV's/sub_sample.csv\")"
   ]
  },
  {
   "cell_type": "markdown",
   "id": "a3a98cd4",
   "metadata": {
    "ExecuteTime": {
     "end_time": "2022-10-29T10:59:09.910774Z",
     "start_time": "2022-10-29T10:59:09.896771Z"
    }
   },
   "source": [
    "**Creating the category folders**"
   ]
  },
  {
   "cell_type": "code",
   "execution_count": 236,
   "id": "844c503e",
   "metadata": {
    "ExecuteTime": {
     "end_time": "2022-10-29T11:39:00.628675Z",
     "start_time": "2022-10-29T11:39:00.610658Z"
    }
   },
   "outputs": [],
   "source": [
    "for el in movements_list:\n",
    "    os.mkdir('Model/Images/'+el)"
   ]
  },
  {
   "cell_type": "code",
   "execution_count": 238,
   "id": "90999de9",
   "metadata": {
    "ExecuteTime": {
     "end_time": "2022-10-29T11:39:33.722561Z",
     "start_time": "2022-10-29T11:39:33.716556Z"
    }
   },
   "outputs": [],
   "source": [
    "movements_list.to_csv('Model_classes.csv')"
   ]
  },
  {
   "cell_type": "markdown",
   "id": "d0a3dc26",
   "metadata": {
    "ExecuteTime": {
     "end_time": "2022-10-29T11:00:34.846716Z",
     "start_time": "2022-10-29T11:00:34.831703Z"
    }
   },
   "source": [
    "**Moving files for their respective folders**"
   ]
  },
  {
   "cell_type": "code",
   "execution_count": 242,
   "id": "c8fbf108",
   "metadata": {
    "ExecuteTime": {
     "end_time": "2022-10-29T11:46:53.738489Z",
     "start_time": "2022-10-29T11:45:35.290840Z"
    },
    "scrolled": true
   },
   "outputs": [],
   "source": [
    "for i in sub_sampled.itertuples():\n",
    "    destination = 'Model/Images/' + i[-3] +'/' + i[-2]\n",
    "    if i[-1] == 1:\n",
    "        shutil.copy2('E:/train/'+ i[-2], destination)\n",
    "    else:\n",
    "        shutil.copy2('E:/test/'+i [-2], destination)"
   ]
  },
  {
   "cell_type": "markdown",
   "id": "cb9523a4",
   "metadata": {},
   "source": [
    "**Checking for invalid files**"
   ]
  },
  {
   "cell_type": "code",
   "execution_count": 2,
   "id": "ab50ec56",
   "metadata": {
    "ExecuteTime": {
     "end_time": "2022-10-30T11:27:52.049590Z",
     "start_time": "2022-10-30T11:27:51.997548Z"
    }
   },
   "outputs": [],
   "source": [
    "sub_sampled = pd.read_csv(\"CSV's/sub_sample.csv\")"
   ]
  },
  {
   "cell_type": "code",
   "execution_count": 24,
   "id": "d5767da1",
   "metadata": {
    "ExecuteTime": {
     "end_time": "2022-10-30T12:00:07.856340Z",
     "start_time": "2022-10-30T11:50:44.223296Z"
    }
   },
   "outputs": [],
   "source": [
    "lst = []\n",
    "from PIL import Image\n",
    "\n",
    "# I try to open the images in the train dataset with pil, if he can't they are corrupted so i add them to\n",
    "# a list of files to remove\n",
    "for i,j in zip(sub_sampled['style'], sub_sampled.new_filename):\n",
    "    path='Model/Images/'+i+'/'+j\n",
    "    try:\n",
    "        Image.open(path).load()\n",
    "    except Exception as e:\n",
    "        lst.append(path)"
   ]
  },
  {
   "cell_type": "code",
   "execution_count": 27,
   "id": "91fd968b",
   "metadata": {
    "ExecuteTime": {
     "end_time": "2022-10-30T12:22:33.566437Z",
     "start_time": "2022-10-30T12:22:33.524408Z"
    },
    "scrolled": true
   },
   "outputs": [
    {
     "name": "stdout",
     "output_type": "stream",
     "text": [
      "Model/Images/Baroque/92899.jpg removed\n",
      "Model/Images/Naïve Art (Primitivism)/18649.jpg removed\n",
      "Model/Images/Cubism/41945.jpg removed\n",
      "Model/Images/Cubism/101947.jpg removed\n",
      "Model/Images/Cubism/100532.jpg removed\n"
     ]
    }
   ],
   "source": [
    "import os\n",
    "\n",
    "lst_notdel = []\n",
    "\n",
    "# Removing the corrupt files\n",
    "for file in lst:\n",
    "    try:\n",
    "        os.remove(file) \n",
    "        print(file,'removed')\n",
    "    except:\n",
    "        lst_notdel.append(file)"
   ]
  }
 ],
 "metadata": {
  "kernelspec": {
   "display_name": "Python 3 (ipykernel)",
   "language": "python",
   "name": "python3"
  },
  "language_info": {
   "codemirror_mode": {
    "name": "ipython",
    "version": 3
   },
   "file_extension": ".py",
   "mimetype": "text/x-python",
   "name": "python",
   "nbconvert_exporter": "python",
   "pygments_lexer": "ipython3",
   "version": "3.9.12"
  },
  "toc": {
   "base_numbering": 1,
   "nav_menu": {},
   "number_sections": true,
   "sideBar": true,
   "skip_h1_title": false,
   "title_cell": "Table of Contents",
   "title_sidebar": "Contents",
   "toc_cell": false,
   "toc_position": {},
   "toc_section_display": true,
   "toc_window_display": false
  },
  "varInspector": {
   "cols": {
    "lenName": 16,
    "lenType": 16,
    "lenVar": 40
   },
   "kernels_config": {
    "python": {
     "delete_cmd_postfix": "",
     "delete_cmd_prefix": "del ",
     "library": "var_list.py",
     "varRefreshCmd": "print(var_dic_list())"
    },
    "r": {
     "delete_cmd_postfix": ") ",
     "delete_cmd_prefix": "rm(",
     "library": "var_list.r",
     "varRefreshCmd": "cat(var_dic_list()) "
    }
   },
   "types_to_exclude": [
    "module",
    "function",
    "builtin_function_or_method",
    "instance",
    "_Feature"
   ],
   "window_display": false
  }
 },
 "nbformat": 4,
 "nbformat_minor": 5
}
