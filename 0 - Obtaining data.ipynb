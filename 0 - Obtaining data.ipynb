{
 "cells": [
  {
   "cell_type": "markdown",
   "id": "401e86b2",
   "metadata": {},
   "source": [
    "**Importing Libraries**"
   ]
  },
  {
   "cell_type": "code",
   "execution_count": 1,
   "id": "a45c1cb2",
   "metadata": {
    "ExecuteTime": {
     "end_time": "2022-11-01T13:26:27.610847Z",
     "start_time": "2022-11-01T13:26:27.030111Z"
    }
   },
   "outputs": [],
   "source": [
    "from IPython.display import clear_output\n",
    "from bs4 import BeautifulSoup\n",
    "from numpy.random import rand\n",
    "from random import randint\n",
    "from time import sleep\n",
    "import json, requests\n",
    "import pandas as pd\n",
    "import random"
   ]
  },
  {
   "cell_type": "markdown",
   "id": "ab7c070e",
   "metadata": {},
   "source": [
    "**Using Chicago's museum API to get all the artworks**"
   ]
  },
  {
   "cell_type": "code",
   "execution_count": 2,
   "id": "95e5fee1",
   "metadata": {
    "ExecuteTime": {
     "end_time": "2022-10-28T13:19:01.601452Z",
     "start_time": "2022-10-28T13:19:01.491729Z"
    }
   },
   "outputs": [],
   "source": [
    "#Main querry string\n",
    "url = \"\"\"https://api.artic.edu/api/v1/artworks?querry[artwork_type_id][1]=True&fields=id,title,image_id,artist_title,style_title,color,date_start,artist_display,material_titles,publication_history,artwork_type_title,artwork_type_id,style_title&limit=100\"\"\"\n",
    "next_url = url\n",
    "counter = 0\n",
    "\n",
    "# Getting the total items in the museum collection\n",
    "result = json.loads(requests.get(url).text)\n",
    "total_items = result['pagination']['total']"
   ]
  },
  {
   "cell_type": "code",
   "execution_count": 3,
   "id": "d238050c",
   "metadata": {
    "ExecuteTime": {
     "end_time": "2022-10-28T13:19:01.617466Z",
     "start_time": "2022-10-28T13:19:01.602452Z"
    }
   },
   "outputs": [],
   "source": [
    "# Scraped data dataframe\n",
    "cols = ['date_start', 'artwork_type_title', 'artist_display', 'style_title','artist_title',\n",
    "        'id', 'image_id', 'title', 'publication_history','artwork_type_id', 'h', 's', 'l']\n",
    "\n",
    "scraped_data = pd.DataFrame(columns = cols)"
   ]
  },
  {
   "cell_type": "markdown",
   "id": "3d4f4985",
   "metadata": {},
   "source": [
    "**Auxiliary functions**"
   ]
  },
  {
   "cell_type": "code",
   "execution_count": 182,
   "id": "c81e3d56",
   "metadata": {
    "ExecuteTime": {
     "end_time": "2022-10-28T16:26:09.398778Z",
     "start_time": "2022-10-28T16:26:09.388769Z"
    }
   },
   "outputs": [],
   "source": [
    "# regex function to get the last element of an URL\n",
    "def regex_link(x):\n",
    "    return re.split('/',x)[-1]"
   ]
  },
  {
   "cell_type": "code",
   "execution_count": 240,
   "id": "2e0e5a5d",
   "metadata": {
    "ExecuteTime": {
     "end_time": "2022-10-28T17:01:03.040712Z",
     "start_time": "2022-10-28T17:01:03.030704Z"
    }
   },
   "outputs": [],
   "source": [
    "# Function to get all artists and details for each movement\n",
    "def get_detail_movement(movement,url_f):\n",
    "    try:\n",
    "        artists = pd.DataFrame(columns=['movement','name','birth','death','country', 'art_type'])\n",
    "        response = requests.get('http://www.artcyclopedia.com/history/'+url_f)\n",
    "        soup = BeautifulSoup(response.content, \"html.parser\")\n",
    "        soup_result = soup.select(\"#mainpage > table tr\")\n",
    "\n",
    "        for i in range(3,len(soup_result)):   \n",
    "            split = re.split(r'\\xa0',soup_result[i].get_text())\n",
    "            date = re.split(r'-',split[1])\n",
    "            artists.loc[len(artists)] = [movement,split[0],date[0],date[1],re.split(r' ',split[2])[0],re.split(r' ',split[2], 1)[1]]      \n",
    "    except:\n",
    "        print('No Artists')\n",
    "    return artists"
   ]
  },
  {
   "cell_type": "code",
   "execution_count": 4,
   "id": "be7ff5b6",
   "metadata": {
    "ExecuteTime": {
     "end_time": "2022-10-28T13:19:01.632614Z",
     "start_time": "2022-10-28T13:19:01.619468Z"
    }
   },
   "outputs": [],
   "source": [
    "#function to flateen columns dictionaries\n",
    "def flat_col(dt, col):\n",
    "    l = []\n",
    "    for i in range(0,len(dt)):\n",
    "        try:\n",
    "            l.append(dt[i]['color'][col])\n",
    "        except:\n",
    "            l.append(0)\n",
    "            \n",
    "    return l"
   ]
  },
  {
   "cell_type": "code",
   "execution_count": 5,
   "id": "532f6b76",
   "metadata": {
    "ExecuteTime": {
     "end_time": "2022-10-28T13:19:01.647792Z",
     "start_time": "2022-10-28T13:19:01.633616Z"
    }
   },
   "outputs": [],
   "source": [
    "# Function to get the data for each link\n",
    "def get_data(sub_url):   \n",
    "    # Respectfull Nap\n",
    "    sleep(random.randint(1,2))\n",
    "    print('Napping, iteration', counter)\n",
    "    \n",
    "    r = requests.get(sub_url)\n",
    "    tmp = json.loads(r.text)\n",
    "    \n",
    "    data = pd.DataFrame(tmp['data'])\n",
    "    data['h'] = flat_col(tmp['data'], 'h')\n",
    "    data['s'] = flat_col(tmp['data'], 's')\n",
    "    data['l'] = flat_col(tmp['data'], 'l')\n",
    "\n",
    "    return data.drop(columns = ['color', 'material_titles']), tmp['pagination']['next_url']"
   ]
  },
  {
   "cell_type": "markdown",
   "id": "22088dd4",
   "metadata": {},
   "source": [
    "**Geting data from the chicago museum**"
   ]
  },
  {
   "cell_type": "code",
   "execution_count": null,
   "id": "03277311",
   "metadata": {
    "scrolled": true
   },
   "outputs": [],
   "source": [
    "while next_url:\n",
    "    df, next_url = get_data(next_url)\n",
    "    scraped_data = pd.concat([scraped_data, df], axis = 0)\n",
    "    counter += 1"
   ]
  },
  {
   "cell_type": "code",
   "execution_count": 246,
   "id": "3d88c440",
   "metadata": {
    "ExecuteTime": {
     "end_time": "2022-10-28T17:16:40.194161Z",
     "start_time": "2022-10-28T17:16:40.174143Z"
    }
   },
   "outputs": [
    {
     "data": {
      "text/html": [
       "<div>\n",
       "<style scoped>\n",
       "    .dataframe tbody tr th:only-of-type {\n",
       "        vertical-align: middle;\n",
       "    }\n",
       "\n",
       "    .dataframe tbody tr th {\n",
       "        vertical-align: top;\n",
       "    }\n",
       "\n",
       "    .dataframe thead th {\n",
       "        text-align: right;\n",
       "    }\n",
       "</style>\n",
       "<table border=\"1\" class=\"dataframe\">\n",
       "  <thead>\n",
       "    <tr style=\"text-align: right;\">\n",
       "      <th></th>\n",
       "      <th>date_start</th>\n",
       "      <th>artwork_type_title</th>\n",
       "      <th>artist_display</th>\n",
       "      <th>style_title</th>\n",
       "      <th>artist_title</th>\n",
       "      <th>id</th>\n",
       "      <th>image_id</th>\n",
       "      <th>title</th>\n",
       "      <th>publication_history</th>\n",
       "      <th>artwork_type_id</th>\n",
       "      <th>h</th>\n",
       "      <th>s</th>\n",
       "      <th>l</th>\n",
       "    </tr>\n",
       "  </thead>\n",
       "  <tbody>\n",
       "    <tr>\n",
       "      <th>0</th>\n",
       "      <td>1898.0</td>\n",
       "      <td>Sculpture</td>\n",
       "      <td>Auguste Rodin\\nFrench, 1840-1917</td>\n",
       "      <td>None</td>\n",
       "      <td>Auguste Rodin</td>\n",
       "      <td>8961</td>\n",
       "      <td>0377f007-2251-af1f-e997-ac44217b6651</td>\n",
       "      <td>Head of Arthur Jerome Eddy</td>\n",
       "      <td>None</td>\n",
       "      <td>3</td>\n",
       "      <td>52</td>\n",
       "      <td>0</td>\n",
       "      <td>65</td>\n",
       "    </tr>\n",
       "    <tr>\n",
       "      <th>1</th>\n",
       "      <td>1880.0</td>\n",
       "      <td>Painting</td>\n",
       "      <td>Paul Cezanne\\nFrench, 1839-1906</td>\n",
       "      <td>Post-Impressionism</td>\n",
       "      <td>Paul Cezanne</td>\n",
       "      <td>16487</td>\n",
       "      <td>d4ca6321-8656-3d3f-a362-2ee297b2b813</td>\n",
       "      <td>The Bay of Marseille, Seen from L'Estaque</td>\n",
       "      <td>F. Jourdain, Cézanne (Paris, 1914), pl. 42.\\n\\...</td>\n",
       "      <td>1</td>\n",
       "      <td>194</td>\n",
       "      <td>10</td>\n",
       "      <td>58</td>\n",
       "    </tr>\n",
       "    <tr>\n",
       "      <th>2</th>\n",
       "      <td>1873.0</td>\n",
       "      <td>Painting</td>\n",
       "      <td>Paul Cezanne\\nFrench, 1839-1906</td>\n",
       "      <td>Impressionism</td>\n",
       "      <td>Paul Cezanne</td>\n",
       "      <td>14556</td>\n",
       "      <td>90bc0cec-0d4e-9af5-3912-52a082a428e5</td>\n",
       "      <td>Auvers, Panoramic View</td>\n",
       "      <td>Journal des Arts 43 (July 9, 1921), p. 2.\\n\\nD...</td>\n",
       "      <td>1</td>\n",
       "      <td>99</td>\n",
       "      <td>8</td>\n",
       "      <td>41</td>\n",
       "    </tr>\n",
       "  </tbody>\n",
       "</table>\n",
       "</div>"
      ],
      "text/plain": [
       "  date_start artwork_type_title                    artist_display  \\\n",
       "0     1898.0          Sculpture  Auguste Rodin\\nFrench, 1840-1917   \n",
       "1     1880.0           Painting   Paul Cezanne\\nFrench, 1839-1906   \n",
       "2     1873.0           Painting   Paul Cezanne\\nFrench, 1839-1906   \n",
       "\n",
       "          style_title   artist_title     id  \\\n",
       "0                None  Auguste Rodin   8961   \n",
       "1  Post-Impressionism   Paul Cezanne  16487   \n",
       "2       Impressionism   Paul Cezanne  14556   \n",
       "\n",
       "                               image_id  \\\n",
       "0  0377f007-2251-af1f-e997-ac44217b6651   \n",
       "1  d4ca6321-8656-3d3f-a362-2ee297b2b813   \n",
       "2  90bc0cec-0d4e-9af5-3912-52a082a428e5   \n",
       "\n",
       "                                       title  \\\n",
       "0                 Head of Arthur Jerome Eddy   \n",
       "1  The Bay of Marseille, Seen from L'Estaque   \n",
       "2                     Auvers, Panoramic View   \n",
       "\n",
       "                                 publication_history artwork_type_id    h   s  \\\n",
       "0                                               None               3   52   0   \n",
       "1  F. Jourdain, Cézanne (Paris, 1914), pl. 42.\\n\\...               1  194  10   \n",
       "2  Journal des Arts 43 (July 9, 1921), p. 2.\\n\\nD...               1   99   8   \n",
       "\n",
       "    l  \n",
       "0  65  \n",
       "1  58  \n",
       "2  41  "
      ]
     },
     "execution_count": 246,
     "metadata": {},
     "output_type": "execute_result"
    }
   ],
   "source": [
    "scraped_data.head(3)"
   ]
  },
  {
   "cell_type": "markdown",
   "id": "a9f30535",
   "metadata": {},
   "source": [
    "**Getting images**"
   ]
  },
  {
   "cell_type": "code",
   "execution_count": 25,
   "id": "907c9816",
   "metadata": {
    "ExecuteTime": {
     "end_time": "2022-10-28T15:24:26.871859Z",
     "start_time": "2022-10-28T15:24:26.847837Z"
    }
   },
   "outputs": [
    {
     "data": {
      "text/plain": [
       "(2882, 13)"
      ]
     },
     "execution_count": 25,
     "metadata": {},
     "output_type": "execute_result"
    }
   ],
   "source": [
    "paintings = scraped_data[scraped_data.artwork_type_title=='Painting']\n",
    "paintings = paintings.drop_duplicates(subset=['image_id'])\n",
    "paintings.shape"
   ]
  },
  {
   "cell_type": "code",
   "execution_count": 14,
   "id": "8782bb3e",
   "metadata": {
    "ExecuteTime": {
     "end_time": "2022-10-28T14:41:18.949313Z",
     "start_time": "2022-10-28T14:34:15.396678Z"
    },
    "scrolled": true
   },
   "outputs": [
    {
     "name": "stdout",
     "output_type": "stream",
     "text": [
      "Images downloaded:  2882\n"
     ]
    }
   ],
   "source": [
    "# Get Images from Chicago museum using the url with the painting ID\n",
    "error_images = []\n",
    "i = 0\n",
    "\n",
    "for painting_id in paintings.image_id:\n",
    "    i = i+1\n",
    "    clear_output()\n",
    "    print('Images downloaded: ',i)\n",
    "    try:\n",
    "        # I have to use a try condicional here because some id's lead to invalid pictures.\n",
    "        webs = requests.get('https://www.artic.edu/iiif/2/'+painting_id+'/full/843,/0/default.jpg')\n",
    "        open('images_chicago/' + painting_id+'.jpg', 'wb').write(webs.content)\n",
    "    except:\n",
    "        print(painting_id,'Failed')\n",
    "        error_images.append(painting_id)"
   ]
  },
  {
   "cell_type": "code",
   "execution_count": 32,
   "id": "4e2aa073",
   "metadata": {
    "ExecuteTime": {
     "end_time": "2022-10-28T15:26:35.222786Z",
     "start_time": "2022-10-28T15:26:35.149720Z"
    }
   },
   "outputs": [],
   "source": [
    "# Generated a file in the comand line with the valid files downloaded and now i'm comparing to the dataset\n",
    "# so the dataset just has the valid paintings in it\n",
    "\n",
    "valid_images = pd.read_csv('valid_files.csv')\n",
    "paintings = paintings[paintings.image_id.isin(valid_images.ID)]\n",
    "paintings.to_csv('artic_edu_Valid_paintings.csv')"
   ]
  },
  {
   "cell_type": "markdown",
   "id": "b3a77b50",
   "metadata": {
    "ExecuteTime": {
     "end_time": "2022-10-28T15:36:20.062270Z",
     "start_time": "2022-10-28T15:36:20.055263Z"
    }
   },
   "source": [
    "**Scraping movements and artists from art encyclopedia**"
   ]
  },
  {
   "cell_type": "code",
   "execution_count": 78,
   "id": "b7c8a851",
   "metadata": {
    "ExecuteTime": {
     "end_time": "2022-10-28T15:47:41.883359Z",
     "start_time": "2022-10-28T15:47:41.867344Z"
    }
   },
   "outputs": [],
   "source": [
    "url = \"http://www.artcyclopedia.com/history/\""
   ]
  },
  {
   "cell_type": "code",
   "execution_count": 79,
   "id": "c668b1ad",
   "metadata": {
    "ExecuteTime": {
     "end_time": "2022-10-28T15:47:43.670246Z",
     "start_time": "2022-10-28T15:47:42.839662Z"
    },
    "scrolled": true
   },
   "outputs": [
    {
     "data": {
      "text/plain": [
       "200"
      ]
     },
     "execution_count": 79,
     "metadata": {},
     "output_type": "execute_result"
    }
   ],
   "source": [
    "response = requests.get(url)\n",
    "response.status_code"
   ]
  },
  {
   "cell_type": "code",
   "execution_count": 160,
   "id": "21318c96",
   "metadata": {
    "ExecuteTime": {
     "end_time": "2022-10-28T16:16:36.551834Z",
     "start_time": "2022-10-28T16:16:36.416071Z"
    }
   },
   "outputs": [],
   "source": [
    "# 1st iteration geting a list of movements from the main page\n",
    "soup = BeautifulSoup(response.content, \"html.parser\")\n",
    "movements = soup.select(\"#mainpage > table a\")\n",
    "lst_links = pd.DataFrame(columns = ['Movement','Link'])\n",
    "\n",
    "for i in range(len(movements)):\n",
    "    lst_links.loc[len(lst_links)] = [movements[i].get_text(), movements[i]['href']]\n",
    "    \n",
    "lst_links.Link = lst_links.Link.apply(regex_link)"
   ]
  },
  {
   "cell_type": "code",
   "execution_count": 172,
   "id": "30834d89",
   "metadata": {
    "ExecuteTime": {
     "end_time": "2022-10-28T16:20:30.851164Z",
     "start_time": "2022-10-28T16:20:30.837151Z"
    }
   },
   "outputs": [],
   "source": [
    "# dropping duplicate links for movements and the first empty line\n",
    "lst_links = lst_links.drop_duplicates(subset=['Link'])[1:]"
   ]
  },
  {
   "cell_type": "code",
   "execution_count": 243,
   "id": "de87b586",
   "metadata": {
    "ExecuteTime": {
     "end_time": "2022-10-28T17:08:05.747216Z",
     "start_time": "2022-10-28T17:06:20.610689Z"
    },
    "collapsed": true
   },
   "outputs": [
    {
     "name": "stdout",
     "output_type": "stream",
     "text": [
      "Napping and downloading Gothic Art\n",
      "No Artists\n",
      "Napping and downloading Byzantine Art\n",
      "No Artists\n",
      "Napping and downloading The Early Renaissance\n",
      "No Artists\n",
      "Napping and downloading The High Renaissance\n",
      "Napping and downloading The Northern Renaissance\n",
      "No Artists\n",
      "Napping and downloading Mannerism\n",
      "No Artists\n",
      "Napping and downloading Baroque Art\n",
      "No Artists\n",
      "Napping and downloading The Rococo Style\n",
      "Napping and downloading Neoclassicism\n",
      "Napping and downloading Academic Art\n",
      "Napping and downloading Japanese Ukiyo-e\n",
      "Napping and downloading Romanticism\n",
      "Napping and downloading The Hudson River School\n",
      "Napping and downloading The Pre-Raphaelite Brotherhood\n",
      "Napping and downloading Victorian Classicism\n",
      "No Artists\n",
      "Napping and downloading The Arts and Crafts Movement\n",
      "Napping and downloading Symbolism\n",
      "No Artists\n",
      "Napping and downloading Realism\n",
      "No Artists\n",
      "Napping and downloading The Barbizon School\n",
      "Napping and downloading Impressionism\n",
      "No Artists\n",
      "Napping and downloading Tonalism\n",
      "Napping and downloading Post-Impressionism\n",
      "Napping and downloading Les Nabis\n",
      "Napping and downloading Pointillism\n",
      "Napping and downloading Fauvism\n",
      "Napping and downloading Art Nouveau\n",
      "Napping and downloading The Golden Age of Illustration\n",
      "No Artists\n",
      "Napping and downloading Art Deco\n",
      "Napping and downloading Ashcan School\n",
      "Napping and downloading Camden Town Group\n",
      "Napping and downloading American Scene\n",
      "Napping and downloading American Regionalism\n",
      "Napping and downloading Social Realism\n",
      "No Artists\n",
      "Napping and downloading The Canadian Group Of Seven\n",
      "Napping and downloading Magic Realism\n",
      "No Artists\n",
      "Napping and downloading Contemporary Realism\n",
      "No Artists\n",
      "Napping and downloading Expressionism\n",
      "No Artists\n",
      "Napping and downloading Die Brücke\n",
      "Napping and downloading Der Blaue Reiter\n",
      "Napping and downloading Die Neue Sachlichkeit\n",
      "Napping and downloading Bauhaus\n",
      "Napping and downloading Cubism\n",
      "Napping and downloading Dada\n",
      "No Artists\n",
      "Napping and downloading Futurism\n",
      "Napping and downloading Neo-Plasticism\n",
      "Napping and downloading Surrealism\n",
      "No Artists\n",
      "Napping and downloading Precisionism\n",
      "Napping and downloading The Harlem Renaissance\n",
      "Napping and downloading Abstract Expressionism\n",
      "No Artists\n",
      "Napping and downloading Pop Art\n",
      "No Artists\n",
      "Napping and downloading Op Art\n",
      "No Artists\n",
      "Napping and downloading Arte Povera\n",
      "No Artists\n",
      "Napping and downloading Photorealism\n",
      "No Artists\n",
      "Napping and downloading Minimalism\n",
      "No Artists\n",
      "Napping and downloading The Sensation Show\n",
      "No Artists\n",
      "Napping and downloading Folk Art\n",
      "No Artists\n"
     ]
    },
    {
     "data": {
      "text/html": [
       "<div>\n",
       "<style scoped>\n",
       "    .dataframe tbody tr th:only-of-type {\n",
       "        vertical-align: middle;\n",
       "    }\n",
       "\n",
       "    .dataframe tbody tr th {\n",
       "        vertical-align: top;\n",
       "    }\n",
       "\n",
       "    .dataframe thead th {\n",
       "        text-align: right;\n",
       "    }\n",
       "</style>\n",
       "<table border=\"1\" class=\"dataframe\">\n",
       "  <thead>\n",
       "    <tr style=\"text-align: right;\">\n",
       "      <th></th>\n",
       "      <th>movement</th>\n",
       "      <th>name</th>\n",
       "      <th>birth</th>\n",
       "      <th>death</th>\n",
       "      <th>country</th>\n",
       "      <th>art_type</th>\n",
       "    </tr>\n",
       "  </thead>\n",
       "  <tbody>\n",
       "    <tr>\n",
       "      <th>0</th>\n",
       "      <td>Gothic Art</td>\n",
       "      <td>Benedetto Antelami</td>\n",
       "      <td>1150</td>\n",
       "      <td>1230</td>\n",
       "      <td>Italian</td>\n",
       "      <td>Sculptor</td>\n",
       "    </tr>\n",
       "    <tr>\n",
       "      <th>1</th>\n",
       "      <td>Gothic Art</td>\n",
       "      <td>Mastro Guglielmo</td>\n",
       "      <td>1158</td>\n",
       "      <td>1165</td>\n",
       "      <td>Italian</td>\n",
       "      <td>Sculptor</td>\n",
       "    </tr>\n",
       "    <tr>\n",
       "      <th>0</th>\n",
       "      <td>The Early Renaissance</td>\n",
       "      <td>Giotto di Bondone</td>\n",
       "      <td>1267</td>\n",
       "      <td>1337</td>\n",
       "      <td>Italian</td>\n",
       "      <td>Painter</td>\n",
       "    </tr>\n",
       "    <tr>\n",
       "      <th>1</th>\n",
       "      <td>The Early Renaissance</td>\n",
       "      <td>Bernardo Daddi</td>\n",
       "      <td>1280</td>\n",
       "      <td>1348</td>\n",
       "      <td>Italian</td>\n",
       "      <td>Painter</td>\n",
       "    </tr>\n",
       "    <tr>\n",
       "      <th>2</th>\n",
       "      <td>The Early Renaissance</td>\n",
       "      <td>Taddeo Gaddi</td>\n",
       "      <td>1300</td>\n",
       "      <td>1366</td>\n",
       "      <td>Italian</td>\n",
       "      <td>Painter</td>\n",
       "    </tr>\n",
       "    <tr>\n",
       "      <th>...</th>\n",
       "      <td>...</td>\n",
       "      <td>...</td>\n",
       "      <td>...</td>\n",
       "      <td>...</td>\n",
       "      <td>...</td>\n",
       "      <td>...</td>\n",
       "    </tr>\n",
       "    <tr>\n",
       "      <th>1</th>\n",
       "      <td>Minimalism</td>\n",
       "      <td>Barnett Newman</td>\n",
       "      <td>1905</td>\n",
       "      <td>1970</td>\n",
       "      <td>American</td>\n",
       "      <td>Painter</td>\n",
       "    </tr>\n",
       "    <tr>\n",
       "      <th>2</th>\n",
       "      <td>Minimalism</td>\n",
       "      <td>Agnes Martin</td>\n",
       "      <td>1912</td>\n",
       "      <td>2004</td>\n",
       "      <td>Canadian/American</td>\n",
       "      <td>Painter</td>\n",
       "    </tr>\n",
       "    <tr>\n",
       "      <th>3</th>\n",
       "      <td>Minimalism</td>\n",
       "      <td>Tony Smith</td>\n",
       "      <td>1912</td>\n",
       "      <td>1980</td>\n",
       "      <td>American</td>\n",
       "      <td>Sculptor</td>\n",
       "    </tr>\n",
       "    <tr>\n",
       "      <th>4</th>\n",
       "      <td>Minimalism</td>\n",
       "      <td>Ad Reinhardt</td>\n",
       "      <td>1913</td>\n",
       "      <td>1967</td>\n",
       "      <td>American</td>\n",
       "      <td>Painter</td>\n",
       "    </tr>\n",
       "    <tr>\n",
       "      <th>5</th>\n",
       "      <td>Minimalism</td>\n",
       "      <td>Anne Truitt</td>\n",
       "      <td>1921</td>\n",
       "      <td>2004</td>\n",
       "      <td>American</td>\n",
       "      <td>Sculptor</td>\n",
       "    </tr>\n",
       "  </tbody>\n",
       "</table>\n",
       "<p>1210 rows × 6 columns</p>\n",
       "</div>"
      ],
      "text/plain": [
       "                 movement                name birth death            country  \\\n",
       "0              Gothic Art  Benedetto Antelami  1150  1230            Italian   \n",
       "1              Gothic Art    Mastro Guglielmo  1158  1165            Italian   \n",
       "0   The Early Renaissance   Giotto di Bondone  1267  1337            Italian   \n",
       "1   The Early Renaissance      Bernardo Daddi  1280  1348            Italian   \n",
       "2   The Early Renaissance        Taddeo Gaddi  1300  1366            Italian   \n",
       "..                    ...                 ...   ...   ...                ...   \n",
       "1              Minimalism      Barnett Newman  1905  1970           American   \n",
       "2              Minimalism        Agnes Martin  1912  2004  Canadian/American   \n",
       "3              Minimalism          Tony Smith  1912  1980           American   \n",
       "4              Minimalism        Ad Reinhardt  1913  1967           American   \n",
       "5              Minimalism         Anne Truitt  1921  2004           American   \n",
       "\n",
       "    art_type  \n",
       "0   Sculptor  \n",
       "1   Sculptor  \n",
       "0    Painter  \n",
       "1    Painter  \n",
       "2    Painter  \n",
       "..       ...  \n",
       "1    Painter  \n",
       "2    Painter  \n",
       "3   Sculptor  \n",
       "4    Painter  \n",
       "5   Sculptor  \n",
       "\n",
       "[1210 rows x 6 columns]"
      ]
     },
     "execution_count": 243,
     "metadata": {},
     "output_type": "execute_result"
    }
   ],
   "source": [
    "# 2nd iteration Creating a dataset to store artists by artistic movement\n",
    "artist_by_movement = pd.DataFrame(columns=['movement','name','birth','death','country', 'art_type'])\n",
    "\n",
    "for name in zip(lst_links['Movement'], lst_links['Link']):\n",
    "# Respectfull Nap\n",
    "    sleep(random.randint(1,2))\n",
    "    print('Napping and downloading', name[0])\n",
    "    # scraping all artists from a artistic movement\n",
    "    artist_by_movement = pd.concat([artist_by_movement, get_detail_movement(name[0],name[1])], axis=0)           "
   ]
  },
  {
   "cell_type": "code",
   "execution_count": 245,
   "id": "44fbf96c",
   "metadata": {
    "ExecuteTime": {
     "end_time": "2022-10-28T17:13:35.634089Z",
     "start_time": "2022-10-28T17:13:35.616074Z"
    }
   },
   "outputs": [],
   "source": [
    "# Saving results to csv\n",
    "artist_by_movement.to_csv('artists_by_movement.csv')"
   ]
  }
 ],
 "metadata": {
  "kernelspec": {
   "display_name": "Python 3 (ipykernel)",
   "language": "python",
   "name": "python3"
  },
  "language_info": {
   "codemirror_mode": {
    "name": "ipython",
    "version": 3
   },
   "file_extension": ".py",
   "mimetype": "text/x-python",
   "name": "python",
   "nbconvert_exporter": "python",
   "pygments_lexer": "ipython3",
   "version": "3.9.12"
  },
  "toc": {
   "base_numbering": 1,
   "nav_menu": {},
   "number_sections": true,
   "sideBar": true,
   "skip_h1_title": false,
   "title_cell": "Table of Contents",
   "title_sidebar": "Contents",
   "toc_cell": false,
   "toc_position": {},
   "toc_section_display": true,
   "toc_window_display": false
  },
  "varInspector": {
   "cols": {
    "lenName": 16,
    "lenType": 16,
    "lenVar": 40
   },
   "kernels_config": {
    "python": {
     "delete_cmd_postfix": "",
     "delete_cmd_prefix": "del ",
     "library": "var_list.py",
     "varRefreshCmd": "print(var_dic_list())"
    },
    "r": {
     "delete_cmd_postfix": ") ",
     "delete_cmd_prefix": "rm(",
     "library": "var_list.r",
     "varRefreshCmd": "cat(var_dic_list()) "
    }
   },
   "types_to_exclude": [
    "module",
    "function",
    "builtin_function_or_method",
    "instance",
    "_Feature"
   ],
   "window_display": false
  }
 },
 "nbformat": 4,
 "nbformat_minor": 5
}
